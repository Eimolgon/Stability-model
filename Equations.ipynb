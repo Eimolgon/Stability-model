{
 "cells": [
  {
   "cell_type": "code",
   "execution_count": 25,
   "metadata": {},
   "outputs": [],
   "source": [
    "import sympy as sp\n",
    "from sympy import symbols, print_latex\n",
    "from sympy.matrices import Matrix, zeros"
   ]
  },
  {
   "cell_type": "code",
   "execution_count": 26,
   "metadata": {},
   "outputs": [],
   "source": [
    "#Symbols-------------------------------------------------------------\n",
    "#Greek letters\n",
    "alpha_r, alpha_f, beta, delta, psi, varphi = symbols('alphaprime_r alphaprime_f beta delta psi varphi')\n",
    "\n",
    "alpha_r_dot, alpha_f_dot, beta_dot, delta_dot, psi_dot, varphi_dot = symbols('alphaprimedot_r alphaprimedot_f betadot deltadot psidot varphidot')\n",
    "\n",
    "alpha_r_ddot, alpha_f_ddot, beta_ddot, delta_ddot, psi_ddot, varphi_ddot = symbols('alphaprimeddot_r alphaprimeddot_f betaddot deltaddot psiddot varphiddot')\n",
    "\n",
    "delta_f, delta_f_dot = symbols('delta_f, deltadot_f')\n",
    "\n",
    "omega_f, omega_r, omega_f_dot, omega_r_dot = symbols('omega_f omega_r omegadot_f omegadot_r')\n",
    "\n",
    "varphi_f, varphi_f_dot = symbols('varphi_f varphidot_f')\n",
    "\n",
    "gamma_f, gamma_r, gamma_f_dot, gamma_r_dot = symbols('gamma_f gamma_r gammadot_f gammadot_r')\n",
    "\n",
    "#Geometry\n",
    "w, varepsilon, a_n = symbols('w, varepsilon a_n')\n",
    "\n",
    "#CoM\n",
    "b_0, h_0, b, h, e_f, h_f = symbols('b_0 h_0 b h e_f h_f')\n",
    "\n",
    "#Fork\n",
    "l_beta, e_b, h_b = symbols('l_beta e_b h_b')\n",
    "\n",
    "#Wheels\n",
    "R_f, R_r, rho_f, rho_r = symbols('R_f R_r rho_f rho_r')\n",
    "\n",
    "#Mass\n",
    "m_0, m, m_f, m_b = symbols('m_0 m m_f m_b')\n",
    "\n",
    "#Forces\n",
    "X_f, X_r, Y_f, Y_r, F_ad = symbols('X_f X_r Y_f Y_r F_ad')\n",
    "\n",
    "N_f, N_r = symbols('N_f N_r')\n",
    "\n",
    "#Inertias\n",
    "I_0xx, I_0xz, I_0zz = symbols('I_0xx I_0xz I_0zz')\n",
    "\n",
    "I_xx, I_xz, I_zz = symbols('I_xx I_xz I_zz')\n",
    "\n",
    "I_fzz, I_omega_f, I_omega_r, I_bxx = symbols('I_fzz I_omega_f I_omega_r I_bxx')\n",
    "\n",
    "#Velocity and acceleration\n",
    "V_x, V_y, a_x, V_y_dot, g = symbols('V_x V_y a_x Vdot_y g')\n",
    "V_x_dot = a_x\n",
    "\n",
    "#Aerodynamics\n",
    "C_DA, h_A = symbols('C_DA h_A')\n",
    "\n",
    "#Stiffness\n",
    "k_alpha_f, k_alpha_r, k_a_f, k_a_r = symbols('k_alpha_f k_alpha_r k_a_f k_a_r')\n",
    "\n",
    "k_varphi_f, k_varphi_r, k_t_f, k_t_r, k_l_f, k_l_r = symbols('k_varphi_f k_varphi_r k_t_f k_t_r k_l_f k_l_r')\n",
    "\n",
    "k_beta = symbols('k_beta')\n",
    "\n",
    "#Other\n",
    "c_delta, M_delta, rho = symbols('c_delta M_delta rho')\n",
    "M_rz, M_fz = symbols('M_rz M_fz')\n",
    "\n",
    "\n",
    "#Missing\n",
    "z_b, b_f, b_b, l_b = symbols('z_b b_f b_b l_b')\n",
    "\n",
    "k_gamma_f, k_gamma_r, k_y_f, k_y_r = symbols('k_gamma_f k_gamma_r k_y_f k_y_r')\n",
    "\n",
    "I_bzz, x_f, x_b = symbols('I_bzz x_f x_b')\n",
    "\n",
    "alpha_r_2, alpha_r_2_dot, alpha_r_2_ddot = symbols('alpha_r alphadot_r alphaddot_r')\n",
    "\n",
    "alpha_f_2, alpha_f_2_dot, alpha_f_2_ddot = symbols('alpha_f alphadot_f alphaddot_f')\n",
    "\n",
    "\n",
    "#Subtitutions\n",
    "#F_ad = (1/2) * rho * C_DA * V_x**2\n",
    "\n",
    "#X_r = F_ad + m*a_x\n",
    "\n",
    "#N_r = (1-(b/w))*m*g + (h_A/w)*F_ad + (1/w)*(m*h + (I_omega_r/R_r) + (I_omega_f/R_f))*a_x\n",
    "#N_f = (b/w)*m*g - (h_A/w)*F_ad - (1/w)*(m*h + (I_omega_r/R_r) + (I_omega_f/R_f))*a_x\n",
    "\n",
    "varphi_f = varphi + delta*sp.sin(varepsilon) + beta*sp.cos(varepsilon)\n",
    "varphi_f_2 = varphi\n",
    "delta_f = delta*sp.cos(varepsilon) - beta * sp.sin(varepsilon)\n",
    "\n",
    "varphi_f_dot = varphi_dot + delta_dot*sp.sin(varepsilon) + beta_dot*sp.cos(varepsilon)\n",
    "varphi_f_2_dot = varphi_dot\n",
    "delta_f_dot = delta_dot*sp.cos(varepsilon) - beta_dot*sp.sin(varepsilon)\n",
    "\n",
    "gamma_r = varphi\n",
    "gamma_f_2 = varphi\n",
    "gamma_f = varphi + delta*sp.sin(varepsilon) + beta*sp.cos(varepsilon)\n",
    "\n",
    "gamma_r_dot = varphi_dot\n",
    "gamma_f_2_dot = varphi_dot\n",
    "gamma_f_dot = varphi_dot + delta_dot*sp.sin(varepsilon) + beta_dot*sp.cos(varepsilon)\n",
    "\n",
    "Y_r = (k_alpha_r*alpha_r + k_gamma_r*gamma_r) * N_r \n",
    "Y_f = (k_alpha_f*alpha_f + k_gamma_f*gamma_f_2) * N_f \n",
    "\n",
    "Y_f_2 = (k_alpha_f*alpha_f_2 + k_gamma_f*gamma_f) * N_f\n",
    "\n",
    "\n",
    "R_r = V_x/omega_r\n",
    "R_f = V_x/omega_f\n",
    "\n",
    "alpha_r_2 = -V_y/V_x\n",
    "alpha_f_2 = delta*sp.cos(varepsilon) - beta*sp.sin(varepsilon) + ((a_n*delta_dot + - w*psi_dot - V_y +(l_b+R_f*sp.cos(varepsilon))*beta_dot)/V_x)\n",
    "\n",
    "\n",
    "M_rz = (k_a_r*alpha_r + k_t_r*gamma_r)*N_r #Ojo que usé alpha_r normal del libro NO alpha prima\n",
    "M_fz = (k_a_f*alpha_f + k_t_f*gamma_f)*N_f\n",
    "\n",
    "M_fz_2 = (k_a_f*alpha_f + k_t_f*gamma_f_2)*N_f\n",
    "\n",
    "k_y_r = k_l_r\n",
    "k_y_f = k_l_f"
   ]
  },
  {
   "cell_type": "code",
   "execution_count": 27,
   "metadata": {},
   "outputs": [],
   "source": [
    "#x vector------------------------------------------------------------\n",
    "x = zeros(10,1)\n",
    "x[0] = V_y\n",
    "x[1] = psi_dot\n",
    "x[2] = varphi_dot\n",
    "x[3] = delta_dot\n",
    "x[4] = beta_dot\n",
    "x[5] = alpha_r\n",
    "x[6] = alpha_f\n",
    "x[7] = varphi\n",
    "x[8] = delta\n",
    "x[9] = beta\n",
    "\n",
    "x_dot = zeros(10,1)\n",
    "x_dot[0] = V_y_dot\n",
    "x_dot[1] = psi_ddot\n",
    "x_dot[2] = varphi_ddot\n",
    "x_dot[3] = delta_ddot\n",
    "x_dot[4] = beta_ddot\n",
    "x_dot[5] = alpha_r_dot\n",
    "x_dot[6] = alpha_f_dot\n",
    "x_dot[7] = varphi_dot\n",
    "x_dot[8] = delta_dot\n",
    "x_dot[9] = beta_dot\n",
    "\n",
    "x_2 = [V_y, psi_dot, varphi_dot, delta_dot, beta_dot, alpha_r, alpha_f, varphi, delta, beta]\n",
    "x_2_dot = [V_y_dot, psi_ddot, varphi_ddot, delta_ddot, beta_ddot, alpha_r_dot, alpha_f_dot, varphi_dot, delta_dot, beta_dot]\n",
    "x_3 = x_2 + x_2_dot\n",
    "x_4 = list(dict.fromkeys(x_3))"
   ]
  },
  {
   "attachments": {},
   "cell_type": "markdown",
   "metadata": {},
   "source": [
    "# Equations\n",
    "## 7.5 Sum of Forces"
   ]
  },
  {
   "cell_type": "code",
   "execution_count": 28,
   "metadata": {},
   "outputs": [
    {
     "name": "stdout",
     "output_type": "stream",
     "text": [
      "a_{x} m = - F_{ad} + X_{f} + X_{r}\n"
     ]
    }
   ],
   "source": [
    "#7.5a -> x axis\n",
    "L75a = m * a_x\n",
    "R75a = X_r + X_f - F_ad\n",
    "print_latex(sp.Eq(L75a, R75a))"
   ]
  },
  {
   "cell_type": "code",
   "execution_count": 29,
   "metadata": {},
   "outputs": [
    {
     "name": "stdout",
     "output_type": "stream",
     "text": [
      "- \\ddot{\\beta} m_{b} z_{b} + \\ddot{\\delta} e_{f} m_{f} + m \\left(V_{x} \\dot{\\psi} + \\dot{V}_{y} + b \\ddot{\\psi} + h \\ddot{\\varphi}\\right) = N_{f} \\left({\\alpha}'_{f} k_{\\alpha f} + k_{\\gamma f} \\varphi\\right) + N_{r} \\left({\\alpha}'_{r} k_{\\alpha r} + k_{\\gamma r} \\varphi\\right) + X_{f} \\left(- \\beta \\sin{\\left(\\varepsilon \\right)} + \\delta \\cos{\\left(\\varepsilon \\right)}\\right)\n"
     ]
    }
   ],
   "source": [
    "#7.5b -> y axis\n",
    "L75b = m * (V_y_dot + b * psi_ddot + h * varphi_ddot + V_x * psi_dot) + m_f * e_f * delta_ddot - m_b * z_b * beta_ddot\n",
    "R75b = Y_r + Y_f + (delta * sp.cos(varepsilon) - beta * sp.sin(varepsilon)) * X_f\n",
    "print_latex(sp.Eq(L75b, R75b))"
   ]
  },
  {
   "cell_type": "code",
   "execution_count": 30,
   "metadata": {},
   "outputs": [
    {
     "name": "stdout",
     "output_type": "stream",
     "text": [
      "0 = - N_{f} - N_{r} + g m\n"
     ]
    }
   ],
   "source": [
    "#7.5c -> z axis\n",
    "Eq75c = sp.Eq(0,  m*g - (N_f + N_r))\n",
    "print_latex(Eq75c)"
   ]
  },
  {
   "attachments": {},
   "cell_type": "markdown",
   "metadata": {},
   "source": [
    "## 7.6 Sum of Moments"
   ]
  },
  {
   "cell_type": "code",
   "execution_count": 31,
   "metadata": {},
   "outputs": [
    {
     "name": "stdout",
     "output_type": "stream",
     "text": [
      "I_{\\omega f} \\left(\\omega_{f} \\left(- \\dot{\\beta} \\sin{\\left(\\varepsilon \\right)} + \\dot{\\delta} \\cos{\\left(\\varepsilon \\right)}\\right) + \\dot{\\omega}_{f} \\left(- \\beta \\sin{\\left(\\varepsilon \\right)} + \\delta \\cos{\\left(\\varepsilon \\right)}\\right)\\right) + \\ddot{\\beta} \\left(I_{bxx} \\cos{\\left(\\varepsilon \\right)} - h_{b} m_{b} z_{b}\\right) + \\ddot{\\delta} \\left(I_{fzz} \\sin{\\left(\\varepsilon \\right)} + e_{f} h_{f} m_{f}\\right) + h m \\left(V_{x} \\dot{\\psi} + \\dot{V}_{y}\\right) + \\ddot{\\psi} \\left(- I_{xz} + b h m\\right) + \\dot{\\psi} \\left(I_{\\omega f} \\omega_{f} + I_{\\omega r} \\omega_{r}\\right) + \\ddot{\\varphi} \\left(I_{xx} + h^{2} m\\right) = N_{f} \\left(\\beta \\left(l_{b} - \\rho_{f} \\cos{\\left(\\varepsilon \\right)}\\right) + \\delta \\left(a_{n} - \\rho_{f} \\sin{\\left(\\varepsilon \\right)}\\right) - \\rho_{f} \\varphi\\right) - N_{r} \\rho_{r} \\varphi - \\beta g m_{b} z_{b} + \\delta e_{f} g m_{f} + g h m \\varphi\n"
     ]
    }
   ],
   "source": [
    "#7.6a -> x axis\n",
    "L76a = (m*b*h - I_xz)*psi_ddot + (m*h**2 + I_xx)*varphi_ddot + (m_f*e_f*h_f + I_fzz * sp.sin(varepsilon))*delta_ddot + (I_bxx * sp.cos(varepsilon) - m_b * h_b * z_b)*beta_ddot + m*h*(V_y_dot + V_x * psi_dot) + (I_omega_f * omega_f + I_omega_r * omega_r)*psi_dot + I_omega_f*(omega_f * delta_f_dot + omega_f_dot * delta_f)\n",
    "R77a = ((a_n - sp.sin(varepsilon)* rho_f)*delta + (l_b - sp.cos(varepsilon)*rho_f)*beta - rho_f * varphi) * N_f - rho_r*varphi*N_r + m*g*h*varphi - m_b*g*z_b*beta + m_f*e_f*g*delta\n",
    "print_latex(sp.Eq(L76a, R77a))"
   ]
  },
  {
   "cell_type": "code",
   "execution_count": 32,
   "metadata": {},
   "outputs": [
    {
     "name": "stdout",
     "output_type": "stream",
     "text": [
      "- I_{\\omega f} \\dot{\\omega}_{f} - I_{\\omega r} \\dot{\\omega}_{r} - a_{x} h m = F_{ad} h_{A} + N_{f} w - b g m\n"
     ]
    }
   ],
   "source": [
    "#7.6b -> y axis\n",
    "L76b = -m * h * a_x - (I_omega_f * omega_f_dot + I_omega_r * omega_r_dot)\n",
    "R77b = w * N_f - b * m * g + h_A * F_ad\n",
    "print_latex(sp.Eq(L76b, R77b))"
   ]
  },
  {
   "cell_type": "code",
   "execution_count": 33,
   "metadata": {},
   "outputs": [
    {
     "name": "stdout",
     "output_type": "stream",
     "text": [
      "- I_{\\omega f} \\left(\\omega_{f} \\left(\\dot{\\beta} \\cos{\\left(\\varepsilon \\right)} + \\dot{\\delta} \\sin{\\left(\\varepsilon \\right)} + \\dot{\\varphi}\\right) + \\dot{\\omega}_{f} \\left(\\beta \\cos{\\left(\\varepsilon \\right)} + \\delta \\sin{\\left(\\varepsilon \\right)} + \\varphi\\right)\\right) - I_{\\omega r} \\left(\\omega_{r} \\dot{\\varphi} + \\dot{\\omega}_{r} \\varphi\\right) + a_{x} \\left(\\beta m_{b} z_{b} - \\delta e_{f} m_{f} - h m \\varphi\\right) + b m \\left(V_{x} \\dot{\\psi} + \\dot{V}_{y}\\right) - \\ddot{\\beta} \\left(I_{bxx} \\sin{\\left(\\varepsilon \\right)} + b_{b} m_{b} z_{b}\\right) + \\ddot{\\delta} \\left(I_{fzz} \\cos{\\left(\\varepsilon \\right)} + b_{f} e_{f} m_{f}\\right) + \\ddot{\\psi} \\left(I_{zz} + b^{2} m\\right) + \\ddot{\\varphi} \\left(- I_{xz} + b h m\\right) = F_{ad} h_{A} \\varphi + N_{f} w \\left({\\alpha}'_{f} k_{\\alpha f} + k_{\\gamma f} \\varphi\\right) + N_{f} \\left({\\alpha}'_{f} k_{a f} + k_{t f} \\left(\\beta \\cos{\\left(\\varepsilon \\right)} + \\delta \\sin{\\left(\\varepsilon \\right)} + \\varphi\\right)\\right) + N_{r} \\left({\\alpha}'_{r} k_{a r} + k_{t r} \\varphi\\right) + X_{f} \\left(\\beta \\left(l_{b} - \\rho_{f} \\cos{\\left(\\varepsilon \\right)} - w \\sin{\\left(\\varepsilon \\right)}\\right) + \\delta \\left(a_{n} - \\rho_{f} \\sin{\\left(\\varepsilon \\right)} + w \\cos{\\left(\\varepsilon \\right)}\\right) - \\rho_{f} \\varphi\\right) - X_{r} \\rho_{r} \\varphi\n"
     ]
    }
   ],
   "source": [
    "#7.6c -> z axis\n",
    "L76c = (m*b**2 + I_zz)*psi_ddot + (m*b*h - I_xz)*varphi_ddot + (m_f*e_f*b_f + I_fzz * sp.cos(varepsilon))*delta_ddot - (m_b*b_b*z_b + I_bxx * sp.sin(varepsilon))*beta_ddot + (m_b*z_b*beta - m*h*varphi - m_f*e_f*delta)*a_x + m*b*(V_y_dot + V_x*psi_dot) - I_omega_r*(omega_r*varphi_dot + omega_r_dot*varphi) - I_omega_f*(omega_f*varphi_f_dot + omega_f_dot*varphi_f)\n",
    "R77c = w*Y_f - rho_r*X_r*varphi + h_A*F_ad*varphi + M_rz + M_fz + ((a_n + w*sp.cos(varepsilon) - rho_f*sp.sin(varepsilon))*delta - rho_f*varphi + (l_b - rho_f * sp.cos(varepsilon) - w * sp.sin(varepsilon))*beta)*X_f\n",
    "print_latex(sp.Eq(L76c, R77c))"
   ]
  },
  {
   "attachments": {},
   "cell_type": "markdown",
   "metadata": {},
   "source": [
    "## 7.8 Steering Behaviour"
   ]
  },
  {
   "cell_type": "code",
   "execution_count": 34,
   "metadata": {},
   "outputs": [
    {
     "name": "stdout",
     "output_type": "stream",
     "text": [
      "I_{\\omega f} \\omega_{f} \\left(\\dot{\\psi} \\sin{\\left(\\varepsilon \\right)} - \\dot{\\varphi} \\cos{\\left(\\varepsilon \\right)}\\right) - I_{\\omega f} \\left(\\beta \\dot{\\omega}_{f} + \\dot{\\beta} \\omega_{f}\\right) - \\ddot{\\beta} e_{b} m_{b} z_{b} + \\ddot{\\delta} \\left(I_{fzz} + e_{f}^{2} m_{f}\\right) + e_{f} m_{f} \\left(V_{x} \\dot{\\psi} + \\dot{V}_{y} + a_{x} \\delta \\cos{\\left(\\varepsilon \\right)}\\right) + \\ddot{\\psi} \\left(I_{fzz} \\cos{\\left(\\varepsilon \\right)} + b_{f} e_{f} m_{f}\\right) + \\ddot{\\varphi} \\left(I_{fzz} \\sin{\\left(\\varepsilon \\right)} + e_{f} h_{f} m_{f}\\right) = M_{\\delta} - N_{f} a_{n} \\left({\\alpha}'_{f} k_{\\alpha f} + k_{\\gamma f} \\varphi\\right) + N_{f} \\left({\\alpha}'_{f} k_{a f} + k_{t f} \\left(\\beta \\cos{\\left(\\varepsilon \\right)} + \\delta \\sin{\\left(\\varepsilon \\right)} + \\varphi\\right)\\right) \\cos{\\left(\\varepsilon \\right)} + N_{f} \\left(\\beta \\left(- a_{n} \\cos{\\left(\\varepsilon \\right)} + l_{b} \\sin{\\left(\\varepsilon \\right)}\\right) + \\left(a_{n} - \\rho_{f} \\sin{\\left(\\varepsilon \\right)}\\right) \\left(\\beta \\cos{\\left(\\varepsilon \\right)} + \\delta \\sin{\\left(\\varepsilon \\right)} + \\varphi\\right)\\right) + X_{f} \\left(\\beta \\left(a_{n} \\sin{\\left(\\varepsilon \\right)} + l_{b} \\cos{\\left(\\varepsilon \\right)}\\right) - \\rho_{f} \\left(\\beta \\cos{\\left(\\varepsilon \\right)} + \\delta \\sin{\\left(\\varepsilon \\right)} + \\varphi\\right) \\cos{\\left(\\varepsilon \\right)}\\right) - c_{\\delta} \\dot{\\delta} + e_{f} g m_{f} \\varphi + \\left(a_{x} \\cos{\\left(\\varepsilon \\right)} + g \\sin{\\left(\\varepsilon \\right)}\\right) \\left(- \\beta m_{b} z_{b} + \\delta e_{f} m_{f}\\right)\n"
     ]
    }
   ],
   "source": [
    "#7.8 Steering behaviour\n",
    "L78 = (m_f*e_f**2 + I_fzz)*delta_ddot + (m_f*e_f*h_f + I_fzz*sp.sin(varepsilon))*varphi_ddot - m_b*z_b*e_b*beta_ddot + (m_f*e_f*b_f + I_fzz*sp.cos(varepsilon))*psi_ddot + m_f*e_f*(V_y_dot + V_x*psi_dot + a_x*delta*sp.cos(varepsilon)) + I_omega_f*omega_f*(psi_dot*sp.sin(varepsilon) - varphi_dot*sp.cos(varepsilon)) - I_omega_f*(omega_f*beta_dot + omega_f_dot*beta)\n",
    "R78 = M_delta - c_delta*delta_dot - a_n*Y_f  + M_fz*sp.cos(varepsilon) + ((l_b *sp.cos(varepsilon) + a_n*sp.sin(varepsilon))*beta - rho_f*sp.cos(varepsilon)*gamma_f)*X_f + ((a_n - rho_f*sp.sin(varepsilon))*gamma_f + (l_b*sp.sin(varepsilon) - a_n*sp.cos(varepsilon))*beta)*N_f + (a_x*sp.cos(varepsilon) + g*sp.sin(varepsilon))*(m_f*e_f*delta - m_b*z_b*beta) + g*m_f*e_f*varphi\n",
    "print_latex(sp.Eq(L78, R78))"
   ]
  },
  {
   "attachments": {},
   "cell_type": "markdown",
   "metadata": {},
   "source": [
    "## 7.9 Fork Bending"
   ]
  },
  {
   "cell_type": "code",
   "execution_count": 35,
   "metadata": {},
   "outputs": [
    {
     "name": "stdout",
     "output_type": "stream",
     "text": [
      "I_{\\omega f} \\omega_{f} \\left(\\dot{\\psi} \\cos{\\left(\\varepsilon \\right)} + \\dot{\\varphi}\\right) + \\ddot{\\beta} \\left(I_{bzz} + m_{b} z_{b}^{2}\\right) - \\ddot{\\delta} e_{b} m_{b} z_{b} - m_{b} z_{b} \\left(V_{x} \\dot{\\psi} + \\dot{V}_{y}\\right) + \\ddot{\\psi} \\left(- I_{bxx} \\sin{\\left(\\varepsilon \\right)} - b_{b} m_{b} z_{b}\\right) + \\ddot{\\varphi} \\left(I_{bxx} \\cos{\\left(\\varepsilon \\right)} - h_{b} m_{b} z_{b}\\right) = - N_{f} l_{b} \\left({\\alpha}'_{f} k_{\\alpha f} + k_{\\gamma f} \\varphi\\right) - N_{f} \\left({\\alpha}'_{f} k_{a f} + k_{t f} \\left(\\beta \\cos{\\left(\\varepsilon \\right)} + \\delta \\sin{\\left(\\varepsilon \\right)} + \\varphi\\right)\\right) \\sin{\\left(\\varepsilon \\right)} - \\beta k_{\\beta} + m_{b} z_{b} \\left(a_{x} \\left(\\beta \\sin{\\left(\\varepsilon \\right)} - \\delta \\cos{\\left(\\varepsilon \\right)}\\right) - g \\left(\\beta \\cos{\\left(\\varepsilon \\right)} + \\delta \\sin{\\left(\\varepsilon \\right)} + \\varphi\\right)\\right) + \\left(N_{f} \\left(l_{b} - \\rho_{f} \\cos{\\left(\\varepsilon \\right)}\\right) + X_{f} \\rho_{f} \\sin{\\left(\\varepsilon \\right)}\\right) \\left(\\beta \\cos{\\left(\\varepsilon \\right)} + \\delta \\sin{\\left(\\varepsilon \\right)} + \\varphi\\right)\n"
     ]
    }
   ],
   "source": [
    "#7.9 Fork bending\n",
    "L79 = -(m_b*z_b*b_b + I_bxx*sp.sin(varepsilon))*psi_ddot + (I_bxx*sp.cos(varepsilon) - m_b*h_b*z_b)*varphi_ddot - m_b*e_b*z_b*delta_ddot + (m_b*z_b**2 + I_bzz)*beta_ddot - m_b*z_b*(V_y_dot + V_x*psi_dot) + I_omega_f*omega_f*(varphi_f_2_dot + psi_dot*sp.cos(varepsilon))\n",
    "R79 = -l_b*Y_f - M_fz*sp.sin(varepsilon) + ((l_b - rho_f*sp.cos(varepsilon))*N_f + rho_f*sp.sin(varepsilon)*X_f)*gamma_f - k_beta*beta + m_b*z_b*(a_x*(beta*sp.sin(varepsilon) - delta*sp.cos(varepsilon)) - g*gamma_f)\n",
    "print_latex(sp.Eq(L79, R79))"
   ]
  },
  {
   "attachments": {},
   "cell_type": "markdown",
   "metadata": {},
   "source": [
    "## 7.15 Tyre Model"
   ]
  },
  {
   "cell_type": "code",
   "execution_count": 36,
   "metadata": {},
   "outputs": [
    {
     "name": "stdout",
     "output_type": "stream",
     "text": [
      "\\frac{N_{r} \\dot{{\\alpha}'}_{r} k_{\\alpha r}}{V_{x} k_{l r}} + {\\alpha}'_{r} = \\frac{N_{r} \\dot{\\varphi} \\left(1 - k_{\\gamma r}\\right)}{V_{x} k_{l r}} - \\frac{V_{y}}{V_{x}}\n"
     ]
    }
   ],
   "source": [
    "#7.14a -> Rear\n",
    "L714a = (((k_alpha_r*N_r)/k_l_r) * alpha_r_dot/V_x) + alpha_r\n",
    "R714a = alpha_r_2 + (N_r)/(V_x*k_l_r)*(1-k_gamma_r)*gamma_r_dot\n",
    "print_latex(sp.Eq(L714a, R714a))"
   ]
  },
  {
   "attachments": {},
   "cell_type": "markdown",
   "metadata": {},
   "source": [
    "$$\n",
    "\\frac{N_{r} \\dot{{\\alpha}'}_{r} k_{\\alpha r}}{V_{x} k_{l r}} + {\\alpha}'_{r} = \\frac{N_{r} \\dot{\\varphi} \\left(1 - k_{\\gamma r}\\right)}{V_{x} k_{l r}} + \\alpha_{r}\n",
    "$$"
   ]
  },
  {
   "cell_type": "code",
   "execution_count": 37,
   "metadata": {},
   "outputs": [
    {
     "name": "stdout",
     "output_type": "stream",
     "text": [
      "\\frac{N_{f} \\dot{{\\alpha}'}_{f} k_{\\alpha f}}{V_{x} k_{l f}} + {\\alpha}'_{f} = \\frac{N_{f} \\left(1 - k_{\\gamma f}\\right) \\left(\\dot{\\beta} \\cos{\\left(\\varepsilon \\right)} + \\dot{\\delta} \\sin{\\left(\\varepsilon \\right)} + \\dot{\\varphi}\\right)}{V_{x} k_{l f}} - \\beta \\sin{\\left(\\varepsilon \\right)} + \\delta \\cos{\\left(\\varepsilon \\right)} + \\frac{- V_{y} + a_{n} \\dot{\\delta} + \\dot{\\beta} \\left(\\frac{V_{x} \\cos{\\left(\\varepsilon \\right)}}{\\omega_{f}} + l_{b}\\right) - \\dot{\\psi} w}{V_{x}}\n"
     ]
    }
   ],
   "source": [
    "#7.14b -> Front\n",
    "L714b = (((k_alpha_f*N_f)/k_l_f) * alpha_f_dot/V_x) + alpha_f\n",
    "R714b = alpha_f_2 + (N_f)/(V_x*k_l_f)*(1-k_gamma_f)*gamma_f_dot\n",
    "print_latex(sp.Eq(L714b, R714b))"
   ]
  },
  {
   "attachments": {},
   "cell_type": "markdown",
   "metadata": {},
   "source": [
    "$$\n",
    "\\frac{N_{f} \\dot{{\\alpha}'}_{f} k_{\\alpha f}}{V_{x} k_{l f}} + {\\alpha}'_{f} = \\frac{N_{f} \\left(1 - k_{\\gamma f}\\right) \\left(\\dot{\\beta} \\cos{\\left(\\varepsilon \\right)} + \\dot{\\delta} \\sin{\\left(\\varepsilon \\right)} + \\dot{\\varphi}\\right)}{V_{x} k_{l f}} + \\alpha_{f}\n",
    "$$"
   ]
  },
  {
   "cell_type": "code",
   "execution_count": 38,
   "metadata": {},
   "outputs": [
    {
     "name": "stdout",
     "output_type": "stream",
     "text": [
      "\\frac{N_{f} \\dot{{\\alpha}'}_{f} k_{\\alpha f}}{V_{x} k_{l f}} + {\\alpha}'_{f} = \\frac{N_{f} \\left(1 - k_{\\gamma f}\\right) \\left(\\dot{\\beta} \\cos{\\left(\\varepsilon \\right)} + \\dot{\\delta} \\sin{\\left(\\varepsilon \\right)} + \\dot{\\varphi}\\right)}{V_{x} k_{l f}} - \\beta \\sin{\\left(\\varepsilon \\right)} + \\delta \\cos{\\left(\\varepsilon \\right)} + \\frac{- V_{y} + a_{n} \\dot{\\delta} + \\dot{\\beta} \\left(\\frac{V_{x} \\cos{\\left(\\varepsilon \\right)}}{\\omega_{f}} + l_{b}\\right) - \\dot{\\psi} w}{V_{x}}\n",
      "\n",
      "\n",
      "\\frac{N_{f} \\omega_{f} \\left(\\dot{{\\alpha}'}_{f} k_{\\alpha f} + \\dot{\\beta} k_{\\gamma f} \\cos{\\left(\\varepsilon \\right)} - \\dot{\\beta} \\cos{\\left(\\varepsilon \\right)} + \\dot{\\delta} k_{\\gamma f} \\sin{\\left(\\varepsilon \\right)} - \\dot{\\delta} \\sin{\\left(\\varepsilon \\right)} + k_{\\gamma f} \\dot{\\varphi} - \\dot{\\varphi}\\right) - V_{x} \\dot{\\beta} k_{l f} \\cos{\\left(\\varepsilon \\right)} + V_{x} k_{l f} \\omega_{f} \\left({\\alpha}'_{f} + \\beta \\sin{\\left(\\varepsilon \\right)} - \\delta \\cos{\\left(\\varepsilon \\right)}\\right) + k_{l f} \\omega_{f} \\left(V_{y} - a_{n} \\dot{\\delta} - \\dot{\\beta} l_{b} + \\dot{\\psi} w\\right)}{V_{x} k_{l f} \\omega_{f}}\n",
      "\n",
      "\n"
     ]
    }
   ],
   "source": [
    "L714b_2 = ((((k_alpha_f*N_f)/k_l_f) * alpha_f_dot/V_x) + alpha_f) #* (V_x * k_l_f)/N_f\n",
    "R714b_2 = (alpha_f_2 + (N_f)/(V_x*k_l_f)*(1-k_gamma_f)*gamma_f_dot) #* (V_x * k_l_f)/N_f\n",
    "comodin = sp.simplify(sp.expand(L714b_2 - R714b_2))\n",
    "print_latex(sp.Eq(L714b_2, R714b_2))\n",
    "print('\\n')\n",
    "print_latex(comodin)\n",
    "print('\\n')"
   ]
  },
  {
   "attachments": {},
   "cell_type": "markdown",
   "metadata": {},
   "source": [
    "# Matrices"
   ]
  },
  {
   "cell_type": "code",
   "execution_count": 39,
   "metadata": {},
   "outputs": [],
   "source": [
    "#E Matrix\n",
    "E = zeros(10,10)\n",
    "E[0,0] = m\n",
    "E[0,1] = m*b\n",
    "E[0,2] = m*h\n",
    "E[0,3] = m_f * e_f\n",
    "E[0,4] = -m_b*z_b\n",
    "\n",
    "E[1,1] = m*b**2 + I_zz\n",
    "E[1,2] = m*b*h - I_xz\n",
    "E[1,3] = m_f*e_f*b_f + I_fzz*sp.cos(varepsilon)\n",
    "E[1,4] = -m_b*z_b*b_b -I_bxx*sp.sin(varepsilon)\n",
    "\n",
    "E[2,2] = m*h**2 + I_xx\n",
    "E[2,3] = m_f*e_f*h_f + I_fzz*sp.sin(varepsilon)\n",
    "E[2,4] = -m_b*h_b*z_b + I_bxx*sp.cos(varepsilon)\n",
    "\n",
    "E[3,3] = m_f*e_f**2 + I_fzz\n",
    "E[3,4] = -m_b*e_b*z_b\n",
    "\n",
    "E[4,4] = m_b*z_b**2 + I_bzz\n",
    "\n",
    "E[5,5] = k_alpha_r\n",
    "\n",
    "E[6,6] = k_alpha_f\n",
    "\n",
    "E[7,7] = 1\n",
    "E[8,8] = 1\n",
    "E[9,9] = 1\n",
    "\n",
    "for i in range(1, 10):\n",
    "    for j in range(i):\n",
    "        E[i, j] = E[j, i]\n",
    "\n",
    "\n",
    "#A Matrix\n",
    "A = zeros(10,10)\n",
    "A[0,1] = -m * V_x\n",
    "A[0,5] = k_alpha_r * N_r\n",
    "A[0,6] = k_alpha_f * N_f\n",
    "A[0,7] = k_gamma_f * N_f + k_gamma_r * N_r\n",
    "A[0,8] = X_f * sp.cos(varepsilon) \n",
    "A[0,9] = -X_f * sp.sin(varepsilon)\n",
    "\n",
    "A[1,1] = -m * b * V_x\n",
    "A[1,2] = I_omega_r * omega_r + I_omega_f * omega_f\n",
    "A[1,3] = I_omega_f * omega_f * sp.sin(varepsilon)\n",
    "A[1,4] = I_omega_f * omega_f * sp.cos(varepsilon)\n",
    "A[1,5] = k_a_r * N_r\n",
    "A[1,6] = k_alpha_f * w * N_f + k_a_f * N_f\n",
    "A[1,7] = k_t_r * N_r + (k_t_f + w * k_gamma_f) * N_f + h * m * a_x + h_A * F_ad + I_omega_r * omega_r_dot + I_omega_f * omega_f_dot - X_f * rho_f - X_r * rho_r\n",
    "A[1,8] = k_t_f * N_f * sp.sin(varepsilon) + (w * sp.cos(varepsilon) - rho_f * sp.sin(varepsilon) + a_n) * X_f + m_f * e_f * a_x + I_omega_f * omega_f_dot * sp.sin(varepsilon)\n",
    "A[1,9] = (l_b - rho_f * sp.cos(varepsilon) - w * sp.sin(varepsilon)) * X_f + I_omega_f * omega_f_dot * sp.cos(varepsilon) - m_b * z_b * a_x + k_t_f * N_f * sp.cos(varepsilon)\n",
    "\n",
    "A[2,1] = -m * h * V_x - I_omega_r * omega_r - I_omega_f * omega_f\n",
    "A[2,3] = -I_omega_f * omega_f * sp.cos(varepsilon)\n",
    "A[2,4] = I_omega_f * omega_f * sp.sin(varepsilon)\n",
    "A[2,7] = m * g * h - rho_f * N_f - rho_r * N_r\n",
    "A[2,8] = (a_n - rho_f * sp.sin(varepsilon)) * N_f + m_f * e_f * g - I_omega_f * omega_f_dot * sp.cos(varepsilon)\n",
    "A[2,9] = (l_b - rho_f * sp.cos(varepsilon)) * N_f - m_b * z_b * g + I_omega_f * omega_f_dot * sp.sin(varepsilon)\n",
    "\n",
    "A[3,1] = -m_f * e_f * V_x - I_omega_f * omega_f * sp.sin(varepsilon)\n",
    "A[3,2] = I_omega_f * omega_f * sp.cos(varepsilon)\n",
    "A[3,3] = -c_delta\n",
    "A[3,4] = I_omega_f * omega_f\n",
    "A[3,6] = (k_a_f  * sp.cos(varepsilon) - a_n * k_alpha_f) * N_f\n",
    "A[3,7] = (a_n * (1 - k_gamma_f) * k_t_f * sp.cos(varepsilon) - rho_f * sp.sin(varepsilon)) * N_f - rho_f * X_f * sp.cos(varepsilon) + m_f * e_f * g\n",
    "A[3,8] = k_gamma_f * a_n * N_f * sp.sin(varepsilon) + m_f * e_f * a_x * sp.cos(varepsilon) + A[3,7] * sp.sin(varepsilon)\n",
    "A[3,9] = (k_t_f * sp.cos(varepsilon)**2 - rho_f * sp.sin(varepsilon) * sp.cos(varepsilon) + l_b * sp.sin(varepsilon)) * N_f - m_b * z_b * (g * sp.sin(varepsilon) + a_x * sp.cos(varepsilon)) + (a_n * sp.sin(varepsilon) - rho_f * sp.cos(varepsilon)**2 + l_b * sp.cos(varepsilon)) * X_f + I_omega_f * omega_f_dot * sp.sin(varepsilon)\n",
    "\n",
    "A[4,1] = m_b * z_b * V_x - I_omega_f * omega_f * sp.cos(varepsilon)\n",
    "A[4,2] = -I_omega_f * omega_f * sp.sin(varepsilon)\n",
    "A[4,3] = -I_omega_f * omega_f\n",
    "A[4,6] = -(k_a_f * sp.sin(varepsilon) + l_b * k_alpha_f) * N_f\n",
    "A[4,7] = ((1 - k_gamma_f) * l_b - k_t_f * sp.sin(varepsilon) - rho_f * sp.cos(varepsilon)) * N_f + rho_f * X_f * sp.sin(varepsilon) - m_b * z_b * g\n",
    "A[4,8] = k_gamma_f * l_b * N_f * sp.sin(varepsilon) - m_b * z_b * a_x * sp.cos(varepsilon) + A[4,7] * sp.sin(varepsilon)\n",
    "A[4,9] = k_gamma_f * l_b * N_f * sp.cos(varepsilon) + m_b * z_b * a_x * sp.sin(varepsilon) + A[4,7] * sp.cos(varepsilon) - k_beta\n",
    "\n",
    "A[5,0] = -k_y_r / N_r\n",
    "A[5,2] = 1 - k_gamma_r\n",
    "A[5,5] = -V_x * k_y_r / N_r\n",
    "\n",
    "A[6,0] = -k_y_f/N_f\n",
    "A[6,1] = (-w * k_y_f) / N_f\n",
    "A[6,2] = 1 - k_gamma_f\n",
    "A[6,3] = (1 - k_gamma_f) * sp.sin(varepsilon) + (a_n * k_y_f)/N_f\n",
    "A[6,4] = (1 - k_gamma_f) * sp.cos(varepsilon) + (l_b * k_y_f)/N_f\n",
    "A[6,6] = -(V_x * k_y_f) / N_f\n",
    "A[6,8] = (V_x * sp.cos(varepsilon) * k_y_f) / N_f\n",
    "A[6,9] = -(V_x * sp.sin(varepsilon) * k_y_f) / N_f\n",
    "\n",
    "A[7,2] = 1\n",
    "\n",
    "A[8,3] = 1\n",
    "\n",
    "A[9,4] = 1"
   ]
  },
  {
   "attachments": {},
   "cell_type": "markdown",
   "metadata": {},
   "source": [
    "# Matricial Equations"
   ]
  },
  {
   "cell_type": "code",
   "execution_count": 40,
   "metadata": {},
   "outputs": [],
   "source": [
    "EqE = E*x_dot\n",
    "EqA = A*x\n",
    "\n",
    "Eq75b_M = sp.Eq(EqE[0], EqA[0])\n",
    "Eq77c_M = sp.Eq(EqE[1], EqA[1])\n",
    "Eq77a_M = sp.Eq(EqE[2], EqA[2])\n",
    "Eq78_M = sp.Eq(EqE[3], EqA[3])\n",
    "Eq79_M = sp.Eq(EqE[4], EqA[4])\n",
    "Eq714a_M = sp.Eq(EqE[5], EqA[5])\n",
    "Eq714b_M = sp.Eq(EqE[6], EqA[6])"
   ]
  },
  {
   "attachments": {},
   "cell_type": "markdown",
   "metadata": {},
   "source": [
    "# Comparing Equations\n",
    "## 7.5 b"
   ]
  },
  {
   "cell_type": "code",
   "execution_count": 41,
   "metadata": {},
   "outputs": [
    {
     "name": "stdout",
     "output_type": "stream",
     "text": [
      "0\n"
     ]
    }
   ],
   "source": [
    "Eq75b = L75b - R75b\n",
    "M75b = EqE[0] - EqA[0]\n",
    "print_latex(sp.expand(Eq75b) - sp.expand(M75b))"
   ]
  },
  {
   "attachments": {},
   "cell_type": "markdown",
   "metadata": {},
   "source": [
    "## 7.6 c"
   ]
  },
  {
   "cell_type": "code",
   "execution_count": 42,
   "metadata": {},
   "outputs": [
    {
     "name": "stdout",
     "output_type": "stream",
     "text": [
      "0\n"
     ]
    }
   ],
   "source": [
    "Eq76c = L76c - R77c\n",
    "M76c = EqE[1] - EqA[1]\n",
    "Dif76c = sp.expand(Eq76c) - sp.expand(M76c)\n",
    "print_latex(sp.collect(Dif76c, x_4))"
   ]
  },
  {
   "attachments": {},
   "cell_type": "markdown",
   "metadata": {},
   "source": [
    "# 7.6 a"
   ]
  },
  {
   "cell_type": "code",
   "execution_count": 43,
   "metadata": {},
   "outputs": [
    {
     "name": "stdout",
     "output_type": "stream",
     "text": [
      "0\n"
     ]
    }
   ],
   "source": [
    "Eq76a = L76a - R77a\n",
    "M76a = EqE[2] - EqA[2]\n",
    "Dif76a = sp.expand(Eq76a) - sp.expand(M76a)\n",
    "print_latex(sp.collect(Dif76a, x_4))"
   ]
  },
  {
   "attachments": {},
   "cell_type": "markdown",
   "metadata": {},
   "source": [
    "# 7.8"
   ]
  },
  {
   "cell_type": "code",
   "execution_count": 44,
   "metadata": {},
   "outputs": [
    {
     "name": "stdout",
     "output_type": "stream",
     "text": [
      "- M_{\\delta} + \\beta \\left(I_{\\omega f} \\dot{\\omega}_{f} \\sin{\\left(\\varepsilon \\right)} - I_{\\omega f} \\dot{\\omega}_{f}\\right) + \\delta \\left(- N_{f} a_{n} k_{\\gamma f} k_{t f} \\sin{\\left(\\varepsilon \\right)} \\cos{\\left(\\varepsilon \\right)} + N_{f} a_{n} k_{\\gamma f} \\sin{\\left(\\varepsilon \\right)} + N_{f} a_{n} k_{t f} \\sin{\\left(\\varepsilon \\right)} \\cos{\\left(\\varepsilon \\right)} - N_{f} a_{n} \\sin{\\left(\\varepsilon \\right)} - N_{f} k_{t f} \\sin{\\left(\\varepsilon \\right)} \\cos{\\left(\\varepsilon \\right)} + a_{x} e_{f} m_{f} \\cos{\\left(\\varepsilon \\right)}\\right) + \\varphi \\left(- N_{f} a_{n} k_{\\gamma f} k_{t f} \\cos{\\left(\\varepsilon \\right)} + N_{f} a_{n} k_{\\gamma f} + N_{f} a_{n} k_{t f} \\cos{\\left(\\varepsilon \\right)} - N_{f} a_{n} - N_{f} k_{t f} \\cos{\\left(\\varepsilon \\right)}\\right)\n"
     ]
    }
   ],
   "source": [
    "Eq78 = L78 - R78\n",
    "M78 = EqE[3] - EqA[3]\n",
    "Dif78 = sp.expand(Eq78) - sp.expand(M78)\n",
    "print_latex(sp.collect(Dif78, x_4))\n",
    "#print_latex(Dif78)"
   ]
  },
  {
   "attachments": {},
   "cell_type": "markdown",
   "metadata": {},
   "source": [
    "$$\n",
    "- M_{\\delta} + \\beta \\left(I_{\\omega f} \\dot{\\omega}_{f} \\sin{\\left(\\varepsilon \\right)} - I_{\\omega f} \\dot{\\omega}_{f}\\right) + \\\\\n",
    "\\delta \\left(- N_{f} a_{n} k_{\\gamma f} k_{t f} \\sin{\\left(\\varepsilon \\right)} \\cos{\\left(\\varepsilon \\right)} + N_{f} a_{n} k_{\\gamma f} \\sin{\\left(\\varepsilon \\right)} + N_{f} a_{n} k_{t f} \\sin{\\left(\\varepsilon \\right)} \\cos{\\left(\\varepsilon \\right)} - N_{f} a_{n} \\sin{\\left(\\varepsilon \\right)} - N_{f} k_{t f} \\sin{\\left(\\varepsilon \\right)} \\cos{\\left(\\varepsilon \\right)} + a_{x} e_{f} m_{f} \\cos{\\left(\\varepsilon \\right)}\\right) + \\\\\n",
    "\\varphi \\left(- N_{f} a_{n} k_{\\gamma f} k_{t f} \\cos{\\left(\\varepsilon \\right)} + N_{f} a_{n} k_{\\gamma f} + N_{f} a_{n} k_{t f} \\cos{\\left(\\varepsilon \\right)} - N_{f} a_{n} - N_{f} k_{t f} \\cos{\\left(\\varepsilon \\right)}\\right)\n",
    "$$"
   ]
  },
  {
   "attachments": {},
   "cell_type": "markdown",
   "metadata": {},
   "source": [
    "$$\n",
    "- M_{\\delta} + \\beta \\left(I_{\\omega f} \\dot{\\omega}_{f} \\sin{\\left(\\varepsilon \\right)} - I_{\\omega f} \\dot{\\omega}_{f}\\right) + \\\\\n",
    "\\delta \\left(- N_{f} a_{n} k_{\\gamma f} k_{t f} \\sin{\\left(\\varepsilon \\right)} \\cos{\\left(\\varepsilon \\right)} + N_{f} a_{n} k_{\\gamma f} \\sin{\\left(\\varepsilon \\right)} + N_{f} a_{n} k_{t f} \\sin{\\left(\\varepsilon \\right)} \\cos{\\left(\\varepsilon \\right)} - N_{f} a_{n} \\sin{\\left(\\varepsilon \\right)} - N_{f} k_{t f} \\sin{\\left(\\varepsilon \\right)} \\cos{\\left(\\varepsilon \\right)} + a_{x} e_{f} m_{f} \\cos{\\left(\\varepsilon \\right)}\\right) + \\\\\n",
    "\\varphi \\left(- N_{f} a_{n} k_{\\gamma f} k_{t f} \\cos{\\left(\\varepsilon \\right)} + N_{f} a_{n} k_{\\gamma f} + N_{f} a_{n} k_{t f} \\cos{\\left(\\varepsilon \\right)} - N_{f} a_{n} - N_{f} k_{t f} \\cos{\\left(\\varepsilon \\right)}\\right)\n",
    "$$"
   ]
  },
  {
   "attachments": {},
   "cell_type": "markdown",
   "metadata": {},
   "source": [
    "# 7.9"
   ]
  },
  {
   "cell_type": "code",
   "execution_count": 45,
   "metadata": {},
   "outputs": [
    {
     "name": "stdout",
     "output_type": "stream",
     "text": [
      "- I_{\\omega f} \\dot{\\delta} \\omega_{f} + \\dot{\\varphi} \\left(- I_{\\omega f} \\omega_{f} \\sin{\\left(\\varepsilon \\right)} + I_{\\omega f} \\omega_{f}\\right)\n"
     ]
    }
   ],
   "source": [
    "Eq79 = L79 - R79\n",
    "M79 = EqE[4] - EqA[4]\n",
    "Dif79 = sp.expand(Eq79) - sp.expand(M79)\n",
    "print_latex(sp.collect(Dif79, x_4))"
   ]
  },
  {
   "attachments": {},
   "cell_type": "markdown",
   "metadata": {},
   "source": [
    "$$\n",
    "- I_{\\omega f} \\dot{\\delta} \\omega_{f} + \\dot{\\varphi} \\left(- I_{\\omega f} \\omega_{f} \\sin{\\left(\\varepsilon \\right)} + I_{\\omega f} \\omega_{f}\\right)\n",
    "$$"
   ]
  },
  {
   "attachments": {},
   "cell_type": "markdown",
   "metadata": {},
   "source": [
    "$$\n",
    "- I_{\\omega f} \\dot{\\delta} \\omega_{f} + \\dot{\\varphi} \\left(- I_{\\omega f} \\omega_{f} \\sin{\\left(\\varepsilon \\right)} + I_{\\omega f} \\omega_{f}\\right)\n",
    "$$"
   ]
  },
  {
   "attachments": {},
   "cell_type": "markdown",
   "metadata": {},
   "source": [
    "# 7.14 a"
   ]
  },
  {
   "cell_type": "code",
   "execution_count": 46,
   "metadata": {},
   "outputs": [
    {
     "name": "stdout",
     "output_type": "stream",
     "text": [
      "\\frac{N_{r} \\dot{{\\alpha}'}_{r} k_{\\alpha r}}{V_{x} k_{l r}} + \\frac{N_{r} k_{\\gamma r} \\dot{\\varphi}}{V_{x} k_{l r}} - \\frac{N_{r} \\dot{\\varphi}}{V_{x} k_{l r}} + {\\alpha}'_{r} - \\dot{{\\alpha}'}_{r} k_{\\alpha r} - k_{\\gamma r} \\dot{\\varphi} + \\dot{\\varphi} + \\frac{V_{y}}{V_{x}} - \\frac{V_{x} {\\alpha}'_{r} k_{l r}}{N_{r}} - \\frac{V_{y} k_{l r}}{N_{r}}\n"
     ]
    }
   ],
   "source": [
    "Eq714a = L714a - R714a\n",
    "M714a = EqE[5] - EqA[5]\n",
    "Dif714a = sp.expand(Eq714a) - sp.expand(M714a)\n",
    "print_latex(Dif714a)\n",
    "#sp.collect(Dif714a, x_4)"
   ]
  },
  {
   "attachments": {},
   "cell_type": "markdown",
   "metadata": {},
   "source": [
    "$$\n",
    "\\frac{N_{r} \\dot{{\\alpha}'}_{r} k_{\\alpha r}}{V_{x} k_{l r}} + \\frac{N_{r} k_{\\gamma r} \\dot{\\varphi}}{V_{x} k_{l r}} - \\frac{N_{r} \\dot{\\varphi}}{V_{x} k_{l r}} - \\alpha_{r} + {\\alpha}'_{r} - \\dot{{\\alpha}'}_{r} k_{\\alpha r} - k_{\\gamma r} \\dot{\\varphi} + \\dot{\\varphi} - \\frac{V_{x} {\\alpha}'_{r} k_{l r}}{N_{r}} - \\frac{V_{y} k_{l r}}{N_{r}}\n",
    "$$"
   ]
  },
  {
   "cell_type": "code",
   "execution_count": 47,
   "metadata": {},
   "outputs": [
    {
     "name": "stdout",
     "output_type": "stream",
     "text": [
      "\\frac{N_{f} \\dot{{\\alpha}'}_{f} k_{\\alpha f}}{V_{x} k_{l f}} + \\frac{N_{f} \\dot{\\beta} k_{\\gamma f} \\cos{\\left(\\varepsilon \\right)}}{V_{x} k_{l f}} - \\frac{N_{f} \\dot{\\beta} \\cos{\\left(\\varepsilon \\right)}}{V_{x} k_{l f}} + \\frac{N_{f} \\dot{\\delta} k_{\\gamma f} \\sin{\\left(\\varepsilon \\right)}}{V_{x} k_{l f}} - \\frac{N_{f} \\dot{\\delta} \\sin{\\left(\\varepsilon \\right)}}{V_{x} k_{l f}} + \\frac{N_{f} k_{\\gamma f} \\dot{\\varphi}}{V_{x} k_{l f}} - \\frac{N_{f} \\dot{\\varphi}}{V_{x} k_{l f}} + {\\alpha}'_{f} - \\dot{{\\alpha}'}_{f} k_{\\alpha f} + \\beta \\sin{\\left(\\varepsilon \\right)} - \\dot{\\beta} k_{\\gamma f} \\cos{\\left(\\varepsilon \\right)} + \\dot{\\beta} \\cos{\\left(\\varepsilon \\right)} - \\frac{\\dot{\\beta} \\cos{\\left(\\varepsilon \\right)}}{\\omega_{f}} - \\delta \\cos{\\left(\\varepsilon \\right)} - \\dot{\\delta} k_{\\gamma f} \\sin{\\left(\\varepsilon \\right)} + \\dot{\\delta} \\sin{\\left(\\varepsilon \\right)} - k_{\\gamma f} \\dot{\\varphi} + \\dot{\\varphi} + \\frac{V_{y}}{V_{x}} - \\frac{a_{n} \\dot{\\delta}}{V_{x}} - \\frac{\\dot{\\beta} l_{b}}{V_{x}} + \\frac{\\dot{\\psi} w}{V_{x}} - \\frac{V_{x} {\\alpha}'_{f} k_{l f}}{N_{f}} - \\frac{V_{x} \\beta k_{l f} \\sin{\\left(\\varepsilon \\right)}}{N_{f}} + \\frac{V_{x} \\delta k_{l f} \\cos{\\left(\\varepsilon \\right)}}{N_{f}} - \\frac{V_{y} k_{l f}}{N_{f}} + \\frac{a_{n} \\dot{\\delta} k_{l f}}{N_{f}} + \\frac{\\dot{\\beta} k_{l f} l_{b}}{N_{f}} - \\frac{k_{l f} \\dot{\\psi} w}{N_{f}}\n"
     ]
    }
   ],
   "source": [
    "Eq714b = L714b - R714b\n",
    "M714b = EqE[6] - EqA[6]\n",
    "Dif714b = sp.expand(Eq714b) - sp.expand(M714b)\n",
    "print_latex(Dif714b)"
   ]
  },
  {
   "attachments": {},
   "cell_type": "markdown",
   "metadata": {},
   "source": [
    "$$\n",
    "\\frac{N_{f} \\dot{{\\alpha}'}_{f} k_{\\alpha f}}{V_{x} k_{l f}} + \\frac{N_{f} \\dot{\\beta} k_{\\gamma f} \\cos{\\left(\\varepsilon \\right)}}{V_{x} k_{l f}} - \\frac{N_{f} \\dot{\\beta} \\cos{\\left(\\varepsilon \\right)}}{V_{x} k_{l f}} + \\frac{N_{f} \\dot{\\delta} k_{\\gamma f} \\sin{\\left(\\varepsilon \\right)}}{V_{x} k_{l f}} - \\frac{N_{f} \\dot{\\delta} \\sin{\\left(\\varepsilon \\right)}}{V_{x} k_{l f}} + \\frac{N_{f} k_{\\gamma f} \\dot{\\varphi}}{V_{x} k_{l f}} - \\\\\n",
    "\\frac{N_{f} \\dot{\\varphi}}{V_{x} k_{l f}} - \\alpha_{f} + {\\alpha}'_{f} - \\dot{{\\alpha}'}_{f} k_{\\alpha f} - \\dot{\\beta} k_{\\gamma f} \\cos{\\left(\\varepsilon \\right)} + \\dot{\\beta} \\cos{\\left(\\varepsilon \\right)} - \\\\\n",
    "\\dot{\\delta} k_{\\gamma f} \\sin{\\left(\\varepsilon \\right)} + \\dot{\\delta} \\sin{\\left(\\varepsilon \\right)} - k_{\\gamma f} \\dot{\\varphi} + \\dot{\\varphi} - \\frac{V_{x} {\\alpha}'_{f} k_{l f}}{N_{f}} - \\frac{V_{x} \\beta k_{l f} \\sin{\\left(\\varepsilon \\right)}}{N_{f}} + \\frac{V_{x} \\delta k_{l f} \\cos{\\left(\\varepsilon \\right)}}{N_{f}} - \\\\\n",
    "\\frac{V_{y} k_{l f}}{N_{f}} + \\frac{a_{n} \\dot{\\delta} k_{l f}}{N_{f}} + \\frac{\\dot{\\beta} k_{l f} l_{b}}{N_{f}} - \\frac{k_{l f} \\dot{\\psi} w}{N_{f}}\n",
    "$$"
   ]
  }
 ],
 "metadata": {
  "kernelspec": {
   "display_name": "Python 3",
   "language": "python",
   "name": "python3"
  },
  "language_info": {
   "codemirror_mode": {
    "name": "ipython",
    "version": 3
   },
   "file_extension": ".py",
   "mimetype": "text/x-python",
   "name": "python",
   "nbconvert_exporter": "python",
   "pygments_lexer": "ipython3",
   "version": "3.11.1"
  },
  "orig_nbformat": 4
 },
 "nbformat": 4,
 "nbformat_minor": 2
}
